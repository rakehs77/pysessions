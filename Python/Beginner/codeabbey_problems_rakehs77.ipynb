{
 "cells": [
  {
   "cell_type": "code",
   "execution_count": 1,
   "metadata": {
    "collapsed": false
   },
   "outputs": [
    {
     "data": {
      "text/plain": [
       "9"
      ]
     },
     "execution_count": 1,
     "metadata": {},
     "output_type": "execute_result"
    }
   ],
   "source": [
    "#sum \"A+B\"\n",
    "\n",
    "def sum(A, B):\n",
    "    return A+B\n",
    "sum(4,5)"
   ]
  },
  {
   "cell_type": "code",
   "execution_count": 18,
   "metadata": {
    "collapsed": false
   },
   "outputs": [
    {
     "data": {
      "text/plain": [
       "20"
      ]
     },
     "execution_count": 18,
     "metadata": {},
     "output_type": "execute_result"
    }
   ],
   "source": [
    "#Sum in Loop\n",
    "\n",
    "def sum(list):\n",
    "    sum=0\n",
    "    for num in list:\n",
    "        sum = sum + num\n",
    "    return sum\n",
    "\n",
    "list = [2, 4, 6, 8]\n",
    "sum(list)"
   ]
  },
  {
   "cell_type": "code",
   "execution_count": 107,
   "metadata": {
    "collapsed": false
   },
   "outputs": [
    {
     "data": {
      "text/plain": [
       "[2, 4, 6, 8]"
      ]
     },
     "execution_count": 107,
     "metadata": {},
     "output_type": "execute_result"
    }
   ],
   "source": [
    "# Sums in Loop\n",
    "\n",
    "def sumloop(list1, list2):\n",
    "    result=[]\n",
    "    for i in range (0, len(list1)):\n",
    "        sum = list1[i] + list2[i]\n",
    "        result.append(sum)\n",
    "    return result\n",
    "\n",
    "list1 = [1, 2, 3, 4]\n",
    "list2 = [1, 2, 3, 4]\n",
    "\n",
    "sumloop(list1, list2)\n",
    "result"
   ]
  },
  {
   "cell_type": "code",
   "execution_count": 110,
   "metadata": {
    "collapsed": false
   },
   "outputs": [
    {
     "data": {
      "text/plain": [
       "[0, 'x', 2, 3]"
      ]
     },
     "execution_count": 110,
     "metadata": {},
     "output_type": "execute_result"
    }
   ],
   "source": [
    "# Minimum of Two\n",
    "\n",
    "def min(list1, list2):\n",
    "    result=[]\n",
    "    for i in range (0, len(list1)):\n",
    "        if list1[i] < list2[i]:\n",
    "            res = list1[i]\n",
    "            result.append(res)\n",
    "            \n",
    "        elif list1[i] == list2[i]:\n",
    "            res = 'x'\n",
    "            result.append(res)\n",
    "       \n",
    "        else:\n",
    "            res = list2[i]\n",
    "            result.append(res)\n",
    "\n",
    "    return result\n",
    "\n",
    "list1 = [1, 1, 3, 3]\n",
    "list2 = [0, 1, 2, 4]\n",
    "\n",
    "min(list1, list2)"
   ]
  },
  {
   "cell_type": "code",
   "execution_count": 147,
   "metadata": {
    "collapsed": false
   },
   "outputs": [
    {
     "data": {
      "text/plain": [
       "[6, 'x', 4, 9]"
      ]
     },
     "execution_count": 147,
     "metadata": {},
     "output_type": "execute_result"
    }
   ],
   "source": [
    "# Minimum of Three\n",
    "\n",
    "def min3(list1, list2, list3):\n",
    "    result=[]\n",
    "    for i in range (0, len(list1)):\n",
    "        if list1[i] < list2[i] and list1[i]< list3[i]:\n",
    "            res = list1[i]\n",
    "            result.append(res)\n",
    "            \n",
    "        elif list2[i] < list3[i]:\n",
    "            res = list2[i]\n",
    "            result.append(res)\n",
    "            \n",
    "        elif list2[i] == list2[i] == list3[i]:\n",
    "            res = 'x'\n",
    "            result.append(res)\n",
    "       \n",
    "        else:\n",
    "            res = list3[i]\n",
    "            result.append(res)\n",
    "    return result\n",
    "\n",
    "list1 = [20, 1, 5, 9]\n",
    "list2 = [8, 1, 4, 12]\n",
    "list3 = [6, 1, 62, 25]\n",
    "\n",
    "min3(list1, list2, list3)"
   ]
  },
  {
   "cell_type": "code",
   "execution_count": 231,
   "metadata": {
    "collapsed": false
   },
   "outputs": [
    {
     "data": {
      "text/plain": [
       "[105, 99, 65, 16, 1]"
      ]
     },
     "execution_count": 231,
     "metadata": {},
     "output_type": "execute_result"
    }
   ],
   "source": [
    "# Maximum of array\n",
    "\n",
    "def lst(list):\n",
    "    result = []\n",
    "    for i in range (0, len(list)):\n",
    "        maximum = list[0]\n",
    "        for item in list:\n",
    "            if item > maximum:\n",
    "                maximum = item\n",
    "        result.append(maximum)\n",
    "        list.remove(maximum)\n",
    "    return result\n",
    "\n",
    "list = [1, 16, 105, 65, 99]\n",
    "\n",
    "lst(list)"
   ]
  },
  {
   "cell_type": "code",
   "execution_count": 233,
   "metadata": {
    "collapsed": false
   },
   "outputs": [
    {
     "data": {
      "text/plain": [
       "[105, 99, 65, 16, 1]"
      ]
     },
     "execution_count": 233,
     "metadata": {},
     "output_type": "execute_result"
    }
   ],
   "source": [
    "def lst(list):\n",
    "    result = []\n",
    "    while list:\n",
    "        maximum = list[0]\n",
    "        for item in list:\n",
    "            if item > maximum:\n",
    "                maximum = item\n",
    "        result.append(maximum)\n",
    "        list.remove(maximum)\n",
    "    return result\n",
    "\n",
    "list = [1, 16, 105, 65, 99]\n",
    "\n",
    "lst(list)"
   ]
  },
  {
   "cell_type": "code",
   "execution_count": 370,
   "metadata": {
    "collapsed": false
   },
   "outputs": [
    {
     "data": {
      "text/plain": [
       "1"
      ]
     },
     "execution_count": 370,
     "metadata": {},
     "output_type": "execute_result"
    }
   ],
   "source": [
    "#Rounding\n",
    "\n",
    "def rounding(num1, num2):\n",
    "    divide = num1/num2\n",
    "    result=round(divide)\n",
    "    return result\n",
    "rounding(5, 2)"
   ]
  },
  {
   "cell_type": "code",
   "execution_count": 368,
   "metadata": {
    "collapsed": false
   },
   "outputs": [
    {
     "data": {
      "text/plain": [
       "2.5"
      ]
     },
     "execution_count": 368,
     "metadata": {},
     "output_type": "execute_result"
    }
   ],
   "source": [
    "5/2"
   ]
  },
  {
   "cell_type": "code",
   "execution_count": 369,
   "metadata": {
    "collapsed": false
   },
   "outputs": [
    {
     "data": {
      "text/plain": [
       "1.3"
      ]
     },
     "execution_count": 369,
     "metadata": {},
     "output_type": "execute_result"
    }
   ],
   "source": [
    "6.5/5"
   ]
  },
  {
   "cell_type": "code",
   "execution_count": 452,
   "metadata": {
    "collapsed": false
   },
   "outputs": [
    {
     "data": {
      "text/plain": [
       "'[77, 104, 56] degree Fahrenheits are equal to [25, 40, 13] degree Celsiuses respectively.'"
      ]
     },
     "execution_count": 452,
     "metadata": {},
     "output_type": "execute_result"
    }
   ],
   "source": [
    "# Fahrenheit to Celsius\n",
    "\n",
    "def convert(fahrenheit):\n",
    "    celsius1=[]\n",
    "    for x in range(0, len(fahrenheit)):\n",
    "        celsius = (fahrenheit[x]- 32) * 5.0/9.0\n",
    "        res=round(celsius)\n",
    "        celsius1.append(res)\n",
    "        result = '{} degree Fahrenheits are equal to {} degree Celsiuses respectively.'\n",
    "    return result.format(fahrenheit, celsius1)\n",
    "\n",
    "convert([77, 104, 56])"
   ]
  },
  {
   "cell_type": "code",
   "execution_count": 615,
   "metadata": {
    "collapsed": false
   },
   "outputs": [
    {
     "name": "stdout",
     "output_type": "stream",
     "text": [
      "a\n",
      "e\n"
     ]
    },
    {
     "data": {
      "text/plain": [
       "'Number of vowels: 2'"
      ]
     },
     "execution_count": 615,
     "metadata": {},
     "output_type": "execute_result"
    }
   ],
   "source": [
    "# Vowel Count\n",
    "\n",
    "def vowelCount(word):\n",
    "    count = 0\n",
    "    vowels = \"aeiou\"\n",
    "    word = word.lower()\n",
    "    for i in range(0, len(word)):\n",
    "        for v in range (0, len(vowels)):\n",
    "            if word[i] == vowels[v]:\n",
    "                print(word[i])\n",
    "                count += 1\n",
    "    return \"Number of vowels: \"+ str(count)\n",
    "vowelCount('RAKESH')\n"
   ]
  },
  {
   "cell_type": "code",
   "execution_count": 641,
   "metadata": {
    "collapsed": false
   },
   "outputs": [
    {
     "data": {
      "text/plain": [
       "210"
      ]
     },
     "execution_count": 641,
     "metadata": {},
     "output_type": "execute_result"
    }
   ],
   "source": [
    "# Median of Three\n",
    "\n",
    "def median(num1, num2, num3):\n",
    "    if num1 <= num2 <= num3:\n",
    "        return num2\n",
    "    elif num2 <= num1 <=num3:\n",
    "        return num1\n",
    "    else:\n",
    "        return num3\n",
    "\n",
    "median(38, 330, 210)"
   ]
  },
  {
   "cell_type": "code",
   "execution_count": 657,
   "metadata": {
    "collapsed": false
   },
   "outputs": [
    {
     "name": "stdout",
     "output_type": "stream",
     "text": [
      "Your Body Mass Index is: 18.576557536273903\n",
      "You are normal weight\n"
     ]
    }
   ],
   "source": [
    "# Body Mass Index\n",
    "\n",
    "def bmi(weight_in_kg, height_in_m):\n",
    "    bmi = weight_in_kg/(height_in_m**2)\n",
    "    print('Your Body Mass Index is: {}'.format(bmi))\n",
    "    if bmi < 18.5:\n",
    "        print('You are underwight')\n",
    "    elif 18.5 <= bmi < 25.0:\n",
    "        print('You are normal weight')\n",
    "    elif 25.0 <= bmi < 30.0:\n",
    "        print('You are overweight')\n",
    "    elif 30.0 <= bmi:\n",
    "        print('You are obesity')    \n",
    "    return None\n",
    "\n",
    "bmi(53.8, 1.7018)\n"
   ]
  },
  {
   "cell_type": "code",
   "execution_count": 670,
   "metadata": {
    "collapsed": false
   },
   "outputs": [
    {
     "data": {
      "text/plain": [
       "2"
      ]
     },
     "execution_count": 670,
     "metadata": {},
     "output_type": "execute_result"
    }
   ],
   "source": [
    "#Sum of digits\n",
    "\n",
    "def sum_digits(num1, num2, num3):\n",
    "    result = num1 * num2 + num3\n",
    "    sum = 0\n",
    "    while result:\n",
    "        sum += result % 10\n",
    "        result //= 10\n",
    "    return sum\n",
    "sum_digits(2, 5, 100)"
   ]
  },
  {
   "cell_type": "code",
   "execution_count": 703,
   "metadata": {
    "collapsed": false
   },
   "outputs": [
    {
     "data": {
      "text/plain": [
       "[4, 6, 3, 2, 5, 5]"
      ]
     },
     "execution_count": 703,
     "metadata": {},
     "output_type": "execute_result"
    }
   ],
   "source": [
    "# Dice Rolling\n",
    "\n",
    "def findRoll(rolls):\n",
    "    output = []\n",
    "    for x in range(len(rolls)):\n",
    "        output.append(calculatedRoll)\n",
    "    return output\n",
    "findRoll([0.59558786964, 0.861037873663, 0.385597702116, 0.246237673331, 0.808033385314, 0.808033385314])"
   ]
  },
  {
   "cell_type": "code",
   "execution_count": 738,
   "metadata": {
    "collapsed": false
   },
   "outputs": [
    {
     "ename": "TypeError",
     "evalue": "'list' object is not callable",
     "output_type": "error",
     "traceback": [
      "\u001b[1;31m\u001b[0m",
      "\u001b[1;31mTypeError\u001b[0mTraceback (most recent call last)",
      "\u001b[1;32m<ipython-input-738-2028cebc6ccc>\u001b[0m in \u001b[0;36m<module>\u001b[1;34m()\u001b[0m\n\u001b[0;32m     11\u001b[0m             \u001b[0manswer\u001b[0m\u001b[1;33m.\u001b[0m\u001b[0mappend\u001b[0m\u001b[1;33m(\u001b[0m\u001b[0mstr\u001b[0m\u001b[1;33m(\u001b[0m\u001b[0mnum\u001b[0m\u001b[1;33m)\u001b[0m\u001b[1;33m)\u001b[0m\u001b[1;33m\u001b[0m\u001b[0m\n\u001b[0;32m     12\u001b[0m     \u001b[0mprint\u001b[0m\u001b[1;33m(\u001b[0m\u001b[1;34m' '\u001b[0m\u001b[1;33m.\u001b[0m\u001b[0mjoin\u001b[0m\u001b[1;33m(\u001b[0m\u001b[0manswer\u001b[0m\u001b[1;33m)\u001b[0m\u001b[1;33m)\u001b[0m\u001b[1;33m\u001b[0m\u001b[0m\n\u001b[1;32m---> 13\u001b[1;33m \u001b[0mwsd\u001b[0m\u001b[1;33m(\u001b[0m\u001b[1;34m'1776'\u001b[0m\u001b[1;33m)\u001b[0m\u001b[1;33m\u001b[0m\u001b[0m\n\u001b[0m",
      "\u001b[1;32m<ipython-input-738-2028cebc6ccc>\u001b[0m in \u001b[0;36mwsd\u001b[1;34m(numOfSums)\u001b[0m\n\u001b[0;32m      6\u001b[0m     \u001b[1;32mfor\u001b[0m \u001b[0mnumber\u001b[0m \u001b[1;32min\u001b[0m \u001b[0msums\u001b[0m\u001b[1;33m:\u001b[0m\u001b[1;33m\u001b[0m\u001b[0m\n\u001b[0;32m      7\u001b[0m         \u001b[0mnum\u001b[0m \u001b[1;33m=\u001b[0m \u001b[1;36m0\u001b[0m\u001b[1;33m\u001b[0m\u001b[0m\n\u001b[1;32m----> 8\u001b[1;33m         \u001b[0mdigits\u001b[0m \u001b[1;33m=\u001b[0m \u001b[0mlist\u001b[0m\u001b[1;33m(\u001b[0m\u001b[0mnumber\u001b[0m\u001b[1;33m)\u001b[0m\u001b[1;33m\u001b[0m\u001b[0m\n\u001b[0m\u001b[0;32m      9\u001b[0m         \u001b[1;32mfor\u001b[0m \u001b[0mx\u001b[0m \u001b[1;32min\u001b[0m \u001b[0mrange\u001b[0m\u001b[1;33m(\u001b[0m\u001b[0mlen\u001b[0m\u001b[1;33m(\u001b[0m\u001b[0mdigits\u001b[0m\u001b[1;33m)\u001b[0m\u001b[1;33m)\u001b[0m\u001b[1;33m:\u001b[0m\u001b[1;33m\u001b[0m\u001b[0m\n\u001b[0;32m     10\u001b[0m             \u001b[0mnum\u001b[0m \u001b[1;33m+=\u001b[0m \u001b[0mint\u001b[0m\u001b[1;33m(\u001b[0m\u001b[0mdigits\u001b[0m\u001b[1;33m[\u001b[0m\u001b[0mx\u001b[0m\u001b[1;33m]\u001b[0m\u001b[1;33m)\u001b[0m \u001b[1;33m*\u001b[0m \u001b[1;33m(\u001b[0m\u001b[0mx\u001b[0m\u001b[1;33m+\u001b[0m\u001b[1;36m1\u001b[0m\u001b[1;33m)\u001b[0m\u001b[1;33m\u001b[0m\u001b[0m\n",
      "\u001b[1;31mTypeError\u001b[0m: 'list' object is not callable"
     ]
    }
   ],
   "source": [
    "# Weighted sum of digits\n",
    "\n",
    "def wsd(numOfSums):\n",
    "    sums = numOfSums.split(' ')\n",
    "    answer = []\n",
    "    for number in sums:\n",
    "        num = 0\n",
    "        digits = list(number)\n",
    "        for x in range(len(digits)):\n",
    "            num += int(digits[x]) * (x+1)\n",
    "            answer.append(str(num))\n",
    "    print(' '.join(answer))\n",
    "wsd('1776')"
   ]
  },
  {
   "cell_type": "code",
   "execution_count": null,
   "metadata": {
    "collapsed": true
   },
   "outputs": [],
   "source": []
  }
 ],
 "metadata": {
  "anaconda-cloud": {},
  "kernelspec": {
   "display_name": "Python [Root]",
   "language": "python",
   "name": "Python [Root]"
  },
  "language_info": {
   "codemirror_mode": {
    "name": "ipython",
    "version": 3
   },
   "file_extension": ".py",
   "mimetype": "text/x-python",
   "name": "python",
   "nbconvert_exporter": "python",
   "pygments_lexer": "ipython3",
   "version": "3.5.2"
  }
 },
 "nbformat": 4,
 "nbformat_minor": 0
}
