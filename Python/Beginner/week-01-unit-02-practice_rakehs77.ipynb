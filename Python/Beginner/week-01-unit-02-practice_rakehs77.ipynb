{
 "cells": [
  {
   "cell_type": "markdown",
   "metadata": {},
   "source": [
    "# Practice\n",
    "---"
   ]
  },
  {
   "cell_type": "markdown",
   "metadata": {},
   "source": [
    "**Question**\n",
    "\n",
    "You have fictional home library with books and magazines.\n",
    "\n",
    "- Create a datastructure to organise you library, It should contain\n",
    "    - name\n",
    "    - category [ e.g. Computer Science, Art, Fiction etc ]\n",
    "    - type [ e.g, Book, Magazine etc ]\n",
    "    - tags \n",
    "\n",
    "*Hint: Use datastructures like, list, tuple, set and dictionary*\n",
    "\n",
    "*Hint: nested datastructures can be used*\n",
    "\n",
    "```python\n",
    "\n",
    "# nested example, something like this\n",
    "my_songs = [{\n",
    "    'artist': 'Adele',\n",
    "    'songs': [\n",
    "        {'title': 'Hello', 'genre': ''},\n",
    "        {}\n",
    "    ]\n",
    "},\n",
    "{\n",
    "    'artist': '',\n",
    "    'songs': [\n",
    "        {}, {}\n",
    "    ]\n",
    "}\n",
    "]\n",
    "```"
   ]
  },
  {
   "cell_type": "code",
   "execution_count": 49,
   "metadata": {
    "collapsed": false
   },
   "outputs": [
    {
     "data": {
      "text/plain": [
       "[{'category': 'Fashion', 'name': 'Folio', 'type': 'Magazine'},\n",
       " {'category': 'Computer Science', 'name': 'Basic Java', 'type': 'Book'},\n",
       " {'category': 'Sports', 'name': 'Soccer World', 'type': 'Magazine'},\n",
       " {'category': 'Computer Science', 'name': 'Python', 'type': 'Book'},\n",
       " {'category': \"Children's Book\", 'name': 'Nursery Rhyme', 'type': 'Book'}]"
      ]
     },
     "execution_count": 49,
     "metadata": {},
     "output_type": "execute_result"
    }
   ],
   "source": [
    "category = ('Fashion', 'Computer Science', 'Sports', 'Children\\'s Book')\n",
    "type = ['Book', 'Magazine']\n",
    "library = [\n",
    "    {\n",
    "        'name': 'Folio',\n",
    "        'category': category[0],\n",
    "        'type': type[1]\n",
    "    },\n",
    "    {\n",
    "        'name': 'Basic Java',\n",
    "        'category': category[1],\n",
    "        'type': type[0]\n",
    "    },\n",
    "    {\n",
    "        'name': 'Soccer World',\n",
    "        'category': category[2],\n",
    "        'type': type[1]\n",
    "    },\n",
    "    {\n",
    "        'name': 'Python',\n",
    "        'category': category[1],\n",
    "        'type': type[0]\n",
    "    },\n",
    "    {\n",
    "        'name': 'Nursery Rhyme',\n",
    "        'category': category[3],\n",
    "        'type': type[0]\n",
    "    }\n",
    "          ]\n",
    "\n",
    "library"
   ]
  },
  {
   "cell_type": "code",
   "execution_count": 27,
   "metadata": {
    "collapsed": false
   },
   "outputs": [
    {
     "ename": "TypeError",
     "evalue": "'tuple' object does not support item assignment",
     "output_type": "error",
     "traceback": [
      "\u001b[1;31m\u001b[0m",
      "\u001b[1;31mTypeError\u001b[0mTraceback (most recent call last)",
      "\u001b[1;32m<ipython-input-27-267697c144c5>\u001b[0m in \u001b[0;36m<module>\u001b[1;34m()\u001b[0m\n\u001b[1;32m----> 1\u001b[1;33m \u001b[0mcategory\u001b[0m\u001b[1;33m[\u001b[0m\u001b[1;36m3\u001b[0m\u001b[1;33m]\u001b[0m \u001b[1;33m=\u001b[0m \u001b[1;34m'Kid\\s stories'\u001b[0m\u001b[1;33m\u001b[0m\u001b[0m\n\u001b[0m",
      "\u001b[1;31mTypeError\u001b[0m: 'tuple' object does not support item assignment"
     ]
    }
   ],
   "source": [
    "category[3] = 'Kid\\s stories'"
   ]
  },
  {
   "cell_type": "code",
   "execution_count": 31,
   "metadata": {
    "collapsed": false
   },
   "outputs": [
    {
     "data": {
      "text/plain": [
       "{'Fashion', 'Magazine'}"
      ]
     },
     "execution_count": 31,
     "metadata": {},
     "output_type": "execute_result"
    }
   ],
   "source": [
    "{category[0]}.union({type[1]})"
   ]
  },
  {
   "cell_type": "code",
   "execution_count": 33,
   "metadata": {
    "collapsed": false
   },
   "outputs": [
    {
     "data": {
      "text/plain": [
       "{'category': 'Fashion', 'name': 'Folio', 'type': 'Magazine'}"
      ]
     },
     "execution_count": 33,
     "metadata": {},
     "output_type": "execute_result"
    }
   ],
   "source": [
    "library[0]"
   ]
  },
  {
   "cell_type": "code",
   "execution_count": 51,
   "metadata": {
    "collapsed": false
   },
   "outputs": [
    {
     "data": {
      "text/plain": [
       "'Python'"
      ]
     },
     "execution_count": 51,
     "metadata": {},
     "output_type": "execute_result"
    }
   ],
   "source": [
    "library[3]['name']"
   ]
  },
  {
   "cell_type": "code",
   "execution_count": 52,
   "metadata": {
    "collapsed": false
   },
   "outputs": [
    {
     "data": {
      "text/plain": [
       "dict_values(['Python', 'Book', 'Computer Science'])"
      ]
     },
     "execution_count": 52,
     "metadata": {},
     "output_type": "execute_result"
    }
   ],
   "source": [
    "library[3].values()"
   ]
  }
 ],
 "metadata": {
  "anaconda-cloud": {},
  "kernelspec": {
   "display_name": "Python [Root]",
   "language": "python",
   "name": "Python [Root]"
  },
  "language_info": {
   "codemirror_mode": {
    "name": "ipython",
    "version": 3
   },
   "file_extension": ".py",
   "mimetype": "text/x-python",
   "name": "python",
   "nbconvert_exporter": "python",
   "pygments_lexer": "ipython3",
   "version": "3.5.2"
  }
 },
 "nbformat": 4,
 "nbformat_minor": 0
}
